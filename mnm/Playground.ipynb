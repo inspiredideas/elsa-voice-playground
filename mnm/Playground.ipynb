{
 "cells": [
  {
   "cell_type": "markdown",
   "metadata": {},
   "source": [
    "## Download the audio files\n",
    "\n",
    "Script to download the audio files from the firestore storage. Form the already extracted texts"
   ]
  },
  {
   "cell_type": "code",
   "execution_count": null,
   "metadata": {},
   "outputs": [],
   "source": [
    "\n",
    "from pathlib import Path\n",
    "\n",
    "credentials_path = Path('../credentials/ServiceAccountKey.json')\n",
    "audio_store_dir = Path('../audio-data/')\n",
    "data_dir = Path('../data/')\n",
    "\n",
    "# check if the key exist\n",
    "assert credentials_path.exists(), \"The %s can't be found. It must be store in the %s\" % (credentials_path.name, credentials_path.parent)\n",
    "\n",
    "# constants\n",
    "# -----------------------------\n",
    "\n",
    "DATAPOINT_NAME = 'idata-a3aae'\n",
    "BUCKET_NAME = '%s.appspot.com' % (DATAPOINT_NAME)\n",
    "DATABASE_URL = 'https://%s.firebaseio.com' % (DATAPOINT_NAME)\n",
    "\n",
    "SERVICE_ACCOUNT_JSON = str(credentials_path)\n",
    "\n",
    "METADATA_CSV = str(data_dir.joinpath('metadata-40229.csv'))\n",
    "\n",
    "# make the directory\n",
    "audio_store_dir.mkdir(parents=True, exist_ok=True)\n"
   ]
  },
  {
   "cell_type": "code",
   "execution_count": null,
   "metadata": {},
   "outputs": [],
   "source": [
    "from google.cloud import storage\n",
    "import os\n",
    "\n",
    "os.environ[\"GOOGLE_APPLICATION_CREDENTIALS\"] = str(credentials_path)\n",
    "\n",
    "storage_client = storage.Client()\n"
   ]
  },
  {
   "cell_type": "code",
   "execution_count": null,
   "metadata": {},
   "outputs": [],
   "source": [
    "from tqdm import tqdm\n",
    "import pandas as pd\n",
    "\n",
    "# set to only download the audio from the listed files in the .csv file\n",
    "# blobs = storage_client.list_blobs(BUCKET_NAME, prefix='speech/')\n",
    "\n",
    "md_df = pd.read_csv(METADATA_CSV, sep=',', header=0)\n",
    "sample_audio_files_list = md_df['sound']\n",
    "\n",
    "sample_audio_files_list.shape"
   ]
  },
  {
   "cell_type": "code",
   "execution_count": null,
   "metadata": {
    "tags": []
   },
   "outputs": [],
   "source": [
    "bucket = storage_client.bucket(BUCKET_NAME)\n",
    "\n",
    "destination_path = audio_store_path.joinpath('speech/')\n",
    "destination_path.mkdir(parents=True, exist_ok=True)\n",
    "\n",
    "for _file in tqdm(sample_audio_files_list):\n",
    "    to_save_path = destination_path.joinpath(_file)\n",
    "\n",
    "    # Skips if the file already exists\n",
    "    if to_save_path.exists(): continue\n",
    "\n",
    "    blob = bucket.blob(_file)\n",
    "    blob.download_to_filename(str(to_save_path))"
   ]
  },
  {
   "cell_type": "code",
   "execution_count": null,
   "metadata": {},
   "outputs": [],
   "source": []
  }
 ],
 "metadata": {
  "language_info": {
   "codemirror_mode": {
    "name": "ipython",
    "version": 3
   },
   "file_extension": ".py",
   "mimetype": "text/x-python",
   "name": "python",
   "nbconvert_exporter": "python",
   "pygments_lexer": "ipython3",
   "version": "3.7.4-final"
  },
  "orig_nbformat": 2,
  "kernelspec": {
   "name": "python_defaultSpec_1594744173383",
   "display_name": "Python 3.7.4 64-bit ('base': conda)"
  }
 },
 "nbformat": 4,
 "nbformat_minor": 2
}